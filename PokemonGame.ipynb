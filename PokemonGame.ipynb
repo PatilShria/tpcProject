{
  "nbformat": 4,
  "nbformat_minor": 0,
  "metadata": {
    "colab": {
      "provenance": [],
      "authorship_tag": "ABX9TyMwZErVUm/M3UPi+q9Ylsa8",
      "include_colab_link": true
    },
    "kernelspec": {
      "name": "python3",
      "display_name": "Python 3"
    },
    "language_info": {
      "name": "python"
    }
  },
  "cells": [
    {
      "cell_type": "markdown",
      "metadata": {
        "id": "view-in-github",
        "colab_type": "text"
      },
      "source": [
        "<a href=\"https://colab.research.google.com/github/PatilShria/tpcproject/blob/mainn/PokemonGame.ipynb\" target=\"_parent\"><img src=\"https://colab.research.google.com/assets/colab-badge.svg\" alt=\"Open In Colab\"/></a>"
      ]
    },
    {
      "cell_type": "code",
      "execution_count": null,
      "metadata": {
        "id": "cDGn8aY-NbaP"
      },
      "outputs": [],
      "source": []
    },
    {
      "cell_type": "code",
      "source": [
        "\n"
      ],
      "metadata": {
        "id": "enq8QFvEPg5o"
      },
      "execution_count": null,
      "outputs": []
    },
    {
      "cell_type": "code",
      "source": [],
      "metadata": {
        "id": "pgtpFcTwPkAE"
      },
      "execution_count": null,
      "outputs": []
    },
    {
      "cell_type": "code",
      "source": [
        "\n",
        "import random\n",
        "from typing import List\n",
        "\n",
        "class Pokemon:\n",
        "    def __init__(self, name, ptype, health, attack, defense, special_attack, special_defense, speed, level, experience, moves, is_wild):\n",
        "        self.name = name\n",
        "        self.ptype = ptype\n",
        "        self.health = health\n",
        "        self.attack_stat = attack  # Renamed to avoid conflict\n",
        "        self.defense = defense\n",
        "        self.special_attack = special_attack\n",
        "        self.special_defense = special_defense\n",
        "        self.speed = speed\n",
        "        self.level = level\n",
        "        self.experience = experience\n",
        "        self.moves = moves\n",
        "        self.is_wild = is_wild\n",
        "\n",
        "    def perform_attack(self, opponent, move):\n",
        "        if move not in self.moves:\n",
        "            print(f\"{self.name} doesn't know the move {move.name}!\")\n",
        "            return\n",
        "\n",
        "        print(f\"{self.name} used {move.name}!\")\n",
        "\n",
        "        # Calculate damage based on type and stats\n",
        "        damage = move.power + self.attack_stat - opponent.defense\n",
        "        damage = max(0, damage)  # Ensure damage isn't negative\n",
        "        opponent.take_damage(damage)\n",
        "\n",
        "    def take_damage(self, damage):\n",
        "        self.health -= damage\n",
        "        print(f\"{self.name} took {damage} damage! Current health: {self.health}\")\n",
        "        if self.health <= 0:\n",
        "            self.faint()\n",
        "\n",
        "    def faint(self):\n",
        "        self.health = 0\n",
        "        print(f\"{self.name} fainted!\")\n",
        "\n",
        "    def gain_experience(self, exp):\n",
        "        self.experience += exp\n",
        "        self.check_level_up()\n",
        "\n",
        "    def check_level_up(self):\n",
        "        if self.experience >= self.level * 10:  # Simple level-up logic\n",
        "            self.level_up()\n",
        "\n",
        "    def level_up(self):\n",
        "        self.level += 1\n",
        "        self.health += 10\n",
        "        self.attack_stat += 2\n",
        "        self.defense += 2\n",
        "        self.special_attack += 2\n",
        "        self.special_defense += 2\n",
        "        self.speed += 1\n",
        "        print(f\"{self.name} leveled up to level {self.level}!\")\n",
        "\n",
        "    def learn_move(self, move):\n",
        "        if len(self.moves) < 4:\n",
        "            self.moves.append(move)\n",
        "            print(f\"{self.name} learned {move.name}!\")\n",
        "        else:\n",
        "            print(f\"{self.name} can't learn more than 4 moves.\")\n",
        "\n",
        "    def get_stat(self, stat):\n",
        "        return getattr(self, stat, None)\n",
        "\n",
        "class Move:\n",
        "    def __init__(self, name, mtype, power, accuracy, category, effect=None):\n",
        "        self.name = name\n",
        "        self.mtype = mtype\n",
        "        self.power = power\n",
        "        self.accuracy = accuracy\n",
        "        self.category = category\n",
        "        self.effect = effect\n",
        "\n",
        "    def apply_effect(self, target):\n",
        "        if self.effect:\n",
        "            print(f\"Applying effect: {self.effect} to {target.name}\")\n",
        "\n",
        "class Item:\n",
        "    def __init__(self, name, itype, effect):\n",
        "        self.name = name\n",
        "        self.itype = itype\n",
        "        self.effect = effect\n",
        "\n",
        "    def use(self, target):\n",
        "        print(f\"Using {self.name} on {target.name}\")\n",
        "        self.effect(target)\n",
        "\n",
        "class Trainer:\n",
        "    def __init__(self, name, team, inventory):\n",
        "        self.name = name\n",
        "        self.team = team\n",
        "        self.inventory = inventory\n",
        "\n",
        "    def catch_pokemon(self, wild_pokemon, pokeball):\n",
        "        print(f\"{self.name} is trying to catch {wild_pokemon.name}!\")\n",
        "        success_rate = min(1.0, max(0.1, pokeball.catch_rate - wild_pokemon.health / 100))\n",
        "        if random.random() < success_rate:\n",
        "            self.team.append(wild_pokemon)\n",
        "            print(f\"{self.name} caught {wild_pokemon.name}!\")\n",
        "        else:\n",
        "            print(f\"{wild_pokemon.name} escaped!\")\n",
        "\n",
        "    def use_item(self, item, target):\n",
        "        item.use(target)\n",
        "\n",
        "    def battle(self, opponent):\n",
        "        print(f\"{self.name} is battling {opponent.name}!\")\n",
        "        my_pokemon = self.team[0]\n",
        "        opponent_pokemon = opponent.team[0]\n",
        "\n",
        "        while my_pokemon.health > 0 and opponent_pokemon.health > 0:\n",
        "            move = random.choice(my_pokemon.moves)\n",
        "            my_pokemon.perform_attack(opponent_pokemon, move)\n",
        "            if opponent_pokemon.health <= 0:\n",
        "                break\n",
        "            opponent_move = random.choice(opponent_pokemon.moves)\n",
        "            opponent_pokemon.perform_attack(my_pokemon, opponent_move)\n",
        "\n",
        "        if my_pokemon.health > 0:\n",
        "            print(f\"{self.name} won the battle!\")\n",
        "        else:\n",
        "            print(f\"{opponent.name} won the battle!\")\n",
        "\n",
        "class Pokeball:\n",
        "    def __init__(self, name, catch_rate):\n",
        "        self.name = name\n",
        "        self.catch_rate = catch_rate\n",
        "\n",
        "class FirePokemon(Pokemon):\n",
        "    def __init__(self, name, health, attack, defense, special_attack, special_defense, speed, level, experience, moves, is_wild):\n",
        "        super().__init__(name, \"Fire\", health, attack, defense, special_attack, special_defense, speed, level, experience, moves, is_wild)\n",
        "\n",
        "if __name__ == \"__main__\":\n",
        "    move1 = Move(\"Flame Thrower\", \"Fire\", 90, 100, \"Special\")\n",
        "    move2 = Move(\"Quick Attack\", \"Normal\", 40, 100, \"Physical\")\n",
        "\n",
        "    charmander = FirePokemon(\"Charmander\", 100, 52, 43, 60, 50, 65, 5, 0, [move1, move2], True)\n",
        "    squirtle = Pokemon(\"Squirtle\", \"Water\", 100, 48, 65, 50, 64, 43, 5, 0, [move2], True)\n",
        "\n",
        "    trainer1 = Trainer(\"Ash\", [charmander], [])\n",
        "    trainer2 = Trainer(\"Misty\", [squirtle], [])\n",
        "\n",
        "    trainer1.battle(trainer2)\n"
      ],
      "metadata": {
        "colab": {
          "base_uri": "https://localhost:8080/"
        },
        "id": "NclRwrUhPnPu",
        "outputId": "4b9c9ffa-77d2-4a4d-881e-e98e062d44e7"
      },
      "execution_count": null,
      "outputs": [
        {
          "output_type": "stream",
          "name": "stdout",
          "text": [
            "Ash is battling Misty!\n",
            "Charmander used Quick Attack!\n",
            "Squirtle took 27 damage! Current health: 73\n",
            "Squirtle used Quick Attack!\n",
            "Charmander took 45 damage! Current health: 55\n",
            "Charmander used Flame Thrower!\n",
            "Squirtle took 77 damage! Current health: -4\n",
            "Squirtle fainted!\n",
            "Ash won the battle!\n"
          ]
        }
      ]
    }
  ]
}